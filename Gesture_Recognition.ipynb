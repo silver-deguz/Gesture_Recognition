{
 "cells": [
  {
   "cell_type": "code",
   "execution_count": 1,
   "metadata": {
    "colab": {
     "base_uri": "https://localhost:8080/",
     "height": 34
    },
    "colab_type": "code",
    "executionInfo": {
     "elapsed": 4547,
     "status": "ok",
     "timestamp": 1558492836020,
     "user": {
      "displayName": "Joni De Guzman",
      "photoUrl": "",
      "userId": "14531752939611435289"
     },
     "user_tz": 420
    },
    "id": "5XGlgOhnODsu",
    "outputId": "aaa17f6c-7e35-4491-9d44-fe109b5318f7"
   },
   "outputs": [
    {
     "name": "stderr",
     "output_type": "stream",
     "text": [
      "/opt/conda/lib/python3.6/site-packages/h5py/__init__.py:36: FutureWarning: Conversion of the second argument of issubdtype from `float` to `np.floating` is deprecated. In future, it will be treated as `np.float64 == np.dtype(float).type`.\n",
      "  from ._conv import register_converters as _register_converters\n",
      "Using TensorFlow backend.\n"
     ]
    }
   ],
   "source": [
    "import keras\n",
    "from matplotlib import pyplot as plt\n",
    "import numpy as np\n",
    "import gzip\n",
    "%matplotlib inline\n",
    "from keras.preprocessing import image\n",
    "from keras.models import Model\n",
    "from keras.optimizers import RMSprop\n",
    "from keras.layers import merge,Reshape\n",
    "from keras.layers.normalization import BatchNormalization\n",
    "from keras.layers import Input, Dense, Conv2D, MaxPooling2D,Conv2DTranspose, \\\n",
    "    UpSampling2D, Activation, LeakyReLU, Flatten, Dropout, GaussianNoise\n",
    "from keras.models import Model,Sequential\n",
    "from keras.callbacks import ModelCheckpoint\n",
    "from keras.optimizers import Adadelta, RMSprop,SGD,Adam\n",
    "from keras import regularizers\n",
    "from keras import backend as K\n",
    "from keras.utils import to_categorical\n",
    "import glob\n",
    "import tensorflow\n",
    "\n",
    "import sklearn\n",
    "from sklearn.model_selection import train_test_split\n",
    "from sklearn.preprocessing import OneHotEncoder\n",
    "from sklearn.utils import shuffle\n",
    "import pickle\n",
    "import os \n",
    "\n",
    "from sklearn.preprocessing import LabelEncoder\n",
    "from keras.utils import np_utils"
   ]
  },
  {
   "cell_type": "code",
   "execution_count": null,
   "metadata": {
    "colab": {
     "base_uri": "https://localhost:8080/",
     "height": 34
    },
    "colab_type": "code",
    "executionInfo": {
     "elapsed": 296,
     "status": "ok",
     "timestamp": 1558492836536,
     "user": {
      "displayName": "Joni De Guzman",
      "photoUrl": "",
      "userId": "14531752939611435289"
     },
     "user_tz": 420
    },
    "id": "3Fi1khT-ArOw",
    "outputId": "173fa6aa-156e-41aa-d9a1-62c5b8ae5e3b"
   },
   "outputs": [],
   "source": [
    "# from google.colab import drive\n",
    "# drive.mount('/content/drive')"
   ]
  },
  {
   "cell_type": "code",
   "execution_count": null,
   "metadata": {
    "colab": {
     "base_uri": "https://localhost:8080/",
     "height": 34
    },
    "colab_type": "code",
    "executionInfo": {
     "elapsed": 300,
     "status": "ok",
     "timestamp": 1558492839028,
     "user": {
      "displayName": "Joni De Guzman",
      "photoUrl": "",
      "userId": "14531752939611435289"
     },
     "user_tz": 420
    },
    "id": "h1HQYbSzA3Jg",
    "outputId": "721fccf7-21d9-4bd1-dd24-aafdf10b2912"
   },
   "outputs": [],
   "source": [
    "# %cd '/content/drive/Team Drives/ECE228/tests'"
   ]
  },
  {
   "cell_type": "markdown",
   "metadata": {
    "colab_type": "text",
    "id": "-_eOyjgBODs2"
   },
   "source": [
    "### Load data"
   ]
  },
  {
   "cell_type": "code",
   "execution_count": 2,
   "metadata": {
    "colab": {
     "base_uri": "https://localhost:8080/",
     "height": 102
    },
    "colab_type": "code",
    "executionInfo": {
     "elapsed": 21877,
     "status": "ok",
     "timestamp": 1558492863237,
     "user": {
      "displayName": "Joni De Guzman",
      "photoUrl": "",
      "userId": "14531752939611435289"
     },
     "user_tz": 420
    },
    "id": "ltRpqbtr_u7i",
    "outputId": "354999ff-a851-438d-ae56-b4ad4f384da1"
   },
   "outputs": [
    {
     "name": "stdout",
     "output_type": "stream",
     "text": [
      "Reading file  output_lb.p ...\n",
      "Reading file  output_im_2.p ...\n",
      "Reading file  output_im_3.p ...\n",
      "Reading file  output_im_1.p ...\n",
      "Reading file  output_im_0.p ...\n",
      "output_im_0.p .ipynb_checkpoints ...\n",
      "output_im_1.p .ipynb_checkpoints ...\n",
      "output_im_2.p .ipynb_checkpoints ...\n",
      "output_im_3.p .ipynb_checkpoints ...\n"
     ]
    }
   ],
   "source": [
    "def load():\n",
    "    import numpy as np\n",
    "    import pickle\n",
    "    import os \n",
    "    path = os.getcwd()\n",
    "    path = path + '/'\n",
    "    data = []\n",
    "    labels = []\n",
    "    directories = []\n",
    "    for out_files in os.listdir():\n",
    "        \n",
    "        if out_files == 'Gesture_Recognition.ipynb':\n",
    "            continue\n",
    "        if not out_files.startswith('.'):\n",
    "            print('Reading file ',out_files,'...')\n",
    "            if (out_files == 'output_lb.p'):\n",
    "                read_file =  path + out_files\n",
    "                labels = pickle.load( open( read_file, \"rb\" ) )\n",
    "                continue\n",
    "            directories.append(out_files)\n",
    "            directories.sort(key=lambda x: int(x[10:12]) if len(x)==14 else int(x[10:11]))\n",
    "    for i in directories:\n",
    "        print(i,out_files,'...')\n",
    "        read_file =  path  + i\n",
    "        data_t = pickle.load( open( read_file, \"rb\" ) )    \n",
    "        data.append(data_t)\n",
    "        \n",
    "    directories.sort()\n",
    " \n",
    "    ln = len(data)\n",
    "    im_ln = len(data[0][0])\n",
    "    M     = len(data[0])\n",
    "    label = np.array(labels[0:ln*M])\n",
    "    dataa = np.zeros((M*ln,im_ln,im_ln,1))\n",
    "    l = 0\n",
    "    for i in data:\n",
    "       for j in i:\n",
    "            dataa[l,:,:,0] = j\n",
    "            l = l +1\n",
    "    return   dataa, label    \n",
    "\n",
    "\n",
    "\n",
    "dataa, lb = load()\n",
    "\n",
    "data = np.array(dataa)\n",
    "\n",
    "data = data.reshape(-1, 120,120, 1)\n",
    "labels = np.array(lb)\n"
   ]
  },
  {
   "cell_type": "code",
   "execution_count": 3,
   "metadata": {
    "colab": {
     "base_uri": "https://localhost:8080/",
     "height": 34
    },
    "colab_type": "code",
    "executionInfo": {
     "elapsed": 456,
     "status": "ok",
     "timestamp": 1558492869696,
     "user": {
      "displayName": "Joni De Guzman",
      "photoUrl": "",
      "userId": "14531752939611435289"
     },
     "user_tz": 420
    },
    "id": "F7Xo8F3pxh8u",
    "outputId": "090eb97d-fed0-4873-e2f5-421977da9edc"
   },
   "outputs": [
    {
     "name": "stdout",
     "output_type": "stream",
     "text": [
      "(20000, 120, 120, 1)\n",
      "(20000,)\n"
     ]
    }
   ],
   "source": [
    "print(data.shape)\n",
    "print(labels.shape)"
   ]
  },
  {
   "cell_type": "code",
   "execution_count": 4,
   "metadata": {},
   "outputs": [],
   "source": [
    "# data = np.random.rand(40000,120,120,1)\n",
    "# labelss = np.hstack((labels,labels))\n",
    "# labels = np.hstack((labelss,labelss))\n",
    "# labels = labels.T\n",
    "# #labelss = np.random.randint(low=0,high=9, size=20000)\n",
    "# print(data.shape)\n",
    "# print(labels.shape)\n",
    "# #print(data)"
   ]
  },
  {
   "cell_type": "code",
   "execution_count": 5,
   "metadata": {
    "colab": {},
    "colab_type": "code",
    "id": "JNLHd7gmZykB"
   },
   "outputs": [
    {
     "name": "stdout",
     "output_type": "stream",
     "text": [
      "(20000, 120, 120, 1)\n"
     ]
    }
   ],
   "source": [
    "print(data.shape)\n",
    "data, labels = shuffle(data, labels, random_state=0)"
   ]
  },
  {
   "cell_type": "code",
   "execution_count": 6,
   "metadata": {
    "colab": {},
    "colab_type": "code",
    "id": "aAXjtzWtrXUe"
   },
   "outputs": [],
   "source": [
    "# train_data = data[0:6000,:,:,:]\n",
    "# train_labels = labels[0:6000]\n",
    "\n",
    "# val_data = data[6000:8000,:,:,:]\n",
    "# val_labels = labels[6000:8000]\n",
    "\n",
    "# test_data = data[8000:,:,:,:]\n",
    "# test_labels = labels[8000:]\n",
    "\n",
    "train_data = data[0:16000,:,:,:]\n",
    "train_labels = labels[0:16000]\n",
    "\n",
    "val_data = data[16000:18000,:,:,:]\n",
    "val_labels = labels[16000:18000]\n",
    "\n",
    "test_data = data[18000:,:,:,:]\n",
    "test_labels = labels[18000:]"
   ]
  },
  {
   "cell_type": "code",
   "execution_count": 7,
   "metadata": {},
   "outputs": [],
   "source": [
    "# def gaussian_noise(img, sigma):\n",
    "#     mean = 0\n",
    "#     noisy_img = img + 0.5*np.random.normal(mean,sigma,img.shape)\n",
    "#     return noisy_img\n",
    "\n",
    "# train_data[0:8000,:,:,:] = gaussian_noise(train_data[0:8000,:,:,:], 0.1)\n",
    "# val_data[0:8000,:,:,:] = gaussian_noise(val_data[0:1000,:,:,:], 0.1)\n",
    "# test_data[0:8000,:,:,:] = gaussian_noise(test_data[0:1000,:,:,:], 0.1)\n"
   ]
  },
  {
   "cell_type": "code",
   "execution_count": 8,
   "metadata": {
    "colab": {
     "base_uri": "https://localhost:8080/",
     "height": 34
    },
    "colab_type": "code",
    "executionInfo": {
     "elapsed": 263,
     "status": "ok",
     "timestamp": 1558492369622,
     "user": {
      "displayName": "Joni De Guzman",
      "photoUrl": "",
      "userId": "14531752939611435289"
     },
     "user_tz": 420
    },
    "id": "w2vK147q_u7w",
    "outputId": "972d85f8-11bb-46f0-f381-eb30c57739bf"
   },
   "outputs": [
    {
     "data": {
      "text/plain": [
       "2000"
      ]
     },
     "execution_count": 8,
     "metadata": {},
     "output_type": "execute_result"
    }
   ],
   "source": [
    "len(test_data)"
   ]
  },
  {
   "cell_type": "code",
   "execution_count": 9,
   "metadata": {
    "colab": {
     "base_uri": "https://localhost:8080/",
     "height": 51
    },
    "colab_type": "code",
    "executionInfo": {
     "elapsed": 317,
     "status": "ok",
     "timestamp": 1558492371631,
     "user": {
      "displayName": "Joni De Guzman",
      "photoUrl": "",
      "userId": "14531752939611435289"
     },
     "user_tz": 420
    },
    "id": "taidRRrrglxJ",
    "outputId": "d7bf6f5f-6aad-4cb6-a6fc-ec04bd0113a6"
   },
   "outputs": [
    {
     "name": "stdout",
     "output_type": "stream",
     "text": [
      "(16000, 120, 120, 1)\n",
      "(2000, 120, 120, 1)\n"
     ]
    }
   ],
   "source": [
    "print(train_data.shape)\n",
    "print(test_data.shape)"
   ]
  },
  {
   "cell_type": "code",
   "execution_count": 10,
   "metadata": {},
   "outputs": [
    {
     "name": "stdout",
     "output_type": "stream",
     "text": [
      "(16000,)\n",
      "(2000,)\n"
     ]
    }
   ],
   "source": [
    "print(train_labels.shape)\n",
    "print(val_labels.shape)"
   ]
  },
  {
   "cell_type": "markdown",
   "metadata": {
    "colab_type": "text",
    "id": "yb3cO5NVODtI"
   },
   "source": [
    "### Preprocess"
   ]
  },
  {
   "cell_type": "code",
   "execution_count": 11,
   "metadata": {
    "colab": {},
    "colab_type": "code",
    "id": "iSIMvvypagGg"
   },
   "outputs": [],
   "source": [
    "# train_data = train_data / np.max(train_data)\n",
    "# val_data = val_data / np.max(val_data)\n",
    "# test_data = test_data / np.max(test_data)"
   ]
  },
  {
   "cell_type": "code",
   "execution_count": 12,
   "metadata": {
    "colab": {},
    "colab_type": "code",
    "id": "Ex5CH8PR_u8K"
   },
   "outputs": [],
   "source": [
    "# train_X, valid_X, train_y, valid_y = train_test_split(train_data, \\\n",
    "#                                                       train_labels, test_size=0.2, random_state=5)\n",
    "#data_train, label_train, data_test, label_test = train_test_split(train_data, \\\n",
    "                                                     # train_labels[0:5000], test_size=0.2, random_state=13)"
   ]
  },
  {
   "cell_type": "code",
   "execution_count": 13,
   "metadata": {
    "colab": {
     "base_uri": "https://localhost:8080/",
     "height": 249
    },
    "colab_type": "code",
    "executionInfo": {
     "elapsed": 4202,
     "status": "error",
     "timestamp": 1558483666516,
     "user": {
      "displayName": "Arshia Zafari",
      "photoUrl": "",
      "userId": "03887972927192886582"
     },
     "user_tz": 420
    },
    "id": "sQeVESdD_u8b",
    "outputId": "2cac0050-91f2-4658-e1de-db5cb02ee0a7"
   },
   "outputs": [],
   "source": [
    "# encode class values as integers\n",
    "encoder = LabelEncoder()\n",
    "encoder.fit(train_labels)\n",
    "encoded_labels = encoder.transform(train_labels)\n",
    "train_labels_onehot = np_utils.to_categorical(encoded_labels)\n",
    "\n",
    "encoder.fit(val_labels)\n",
    "encoded_labels = encoder.transform(val_labels)\n",
    "val_labels_onehot = np_utils.to_categorical(encoded_labels)\n",
    "\n",
    "encoder.fit(test_labels)\n",
    "encoded_labels = encoder.transform(test_labels)\n",
    "test_labels_onehot = np_utils.to_categorical(encoded_labels)\n"
   ]
  },
  {
   "cell_type": "markdown",
   "metadata": {
    "colab_type": "text",
    "id": "52Y1AyaeODtO"
   },
   "source": [
    "### Architecture"
   ]
  },
  {
   "cell_type": "code",
   "execution_count": 84,
   "metadata": {
    "colab": {},
    "colab_type": "code",
    "id": "DSY0ZePe_u8W"
   },
   "outputs": [],
   "source": [
    "def CNN():\n",
    "    input_img = Input(shape=(120, 120, 1))\n",
    "    x = Conv2D(128, (3, 3), activation='relu', padding='same', dilation_rate=(2,2))(input_img)\n",
    "    x = GaussianNoise(0.005)(x)\n",
    "    x = BatchNormalization()(x)\n",
    "#     x = LeakyReLU(alpha=0.3)(x)\n",
    "    x = MaxPooling2D((2, 2), padding='same')(x)\n",
    "\n",
    "    x = Conv2D(64, (3, 3), activation='relu', padding='same', dilation_rate=(2,2))(x)\n",
    "#    x = GaussianNoise(0.001)(x)\n",
    "    x = BatchNormalization()(x)\n",
    "#     x = LeakyReLU(alpha=0.3)(x)\n",
    "    x = MaxPooling2D((2, 2), padding='same')(x)\n",
    "\n",
    "    x = Conv2D(32, (3, 3), activation='relu', padding='same', dilation_rate=(2,2))(x)\n",
    "#    x = GaussianNoise(0.001)(x)\n",
    "    x = BatchNormalization()(x)\n",
    "#     x = LeakyReLU(alpha=0.3)(x)\n",
    "    x = MaxPooling2D((2, 2), padding='same')(x)\n",
    "    \n",
    "    x = Flatten()(x)\n",
    "    x = Dense(128, activation='relu')(x)\n",
    "  #  x = GaussianNoise(0.002)(x)\n",
    "    x = Dropout(0.5)(x)\n",
    "    output = Dense(num_classes, activation='softmax')(x)\n",
    "    return Model(input_img, output)\n",
    "\n",
    "\n",
    "batch_size = 64\n",
    "epochs = 10\n",
    "num_classes = 10\n",
    "\n",
    "#0.01 first layer, 0.005 b4 Dropout ===> 0.09\n",
    "#0.005 first layer ===> 0.912\n"
   ]
  },
  {
   "cell_type": "code",
   "execution_count": 85,
   "metadata": {
    "colab": {
     "base_uri": "https://localhost:8080/",
     "height": 159
    },
    "colab_type": "code",
    "executionInfo": {
     "elapsed": 2757,
     "status": "ok",
     "timestamp": 1558482540139,
     "user": {
      "displayName": "Arshia Zafari",
      "photoUrl": "",
      "userId": "03887972927192886582"
     },
     "user_tz": 420
    },
    "id": "3jh1T0ukODtU",
    "outputId": "3550587b-7551-4312-c1c7-0108e6176d17"
   },
   "outputs": [],
   "source": [
    "CNN = CNN()\n",
    "CNN.compile(loss='categorical_crossentropy',  optimizer = RMSprop(), metrics=['accuracy'])\n"
   ]
  },
  {
   "cell_type": "code",
   "execution_count": 86,
   "metadata": {
    "colab": {
     "base_uri": "https://localhost:8080/",
     "height": 612
    },
    "colab_type": "code",
    "executionInfo": {
     "elapsed": 257,
     "status": "ok",
     "timestamp": 1558482540856,
     "user": {
      "displayName": "Arshia Zafari",
      "photoUrl": "",
      "userId": "03887972927192886582"
     },
     "user_tz": 420
    },
    "id": "TEK2RxJJODtY",
    "outputId": "0d4792f3-c1c7-45d5-b7dc-57797d038015"
   },
   "outputs": [
    {
     "name": "stdout",
     "output_type": "stream",
     "text": [
      "_________________________________________________________________\n",
      "Layer (type)                 Output Shape              Param #   \n",
      "=================================================================\n",
      "input_8 (InputLayer)         (None, 120, 120, 1)       0         \n",
      "_________________________________________________________________\n",
      "conv2d_22 (Conv2D)           (None, 120, 120, 128)     1280      \n",
      "_________________________________________________________________\n",
      "gaussian_noise_18 (GaussianN (None, 120, 120, 128)     0         \n",
      "_________________________________________________________________\n",
      "batch_normalization_22 (Batc (None, 120, 120, 128)     512       \n",
      "_________________________________________________________________\n",
      "max_pooling2d_22 (MaxPooling (None, 60, 60, 128)       0         \n",
      "_________________________________________________________________\n",
      "conv2d_23 (Conv2D)           (None, 60, 60, 64)        73792     \n",
      "_________________________________________________________________\n",
      "batch_normalization_23 (Batc (None, 60, 60, 64)        256       \n",
      "_________________________________________________________________\n",
      "max_pooling2d_23 (MaxPooling (None, 30, 30, 64)        0         \n",
      "_________________________________________________________________\n",
      "conv2d_24 (Conv2D)           (None, 30, 30, 32)        18464     \n",
      "_________________________________________________________________\n",
      "batch_normalization_24 (Batc (None, 30, 30, 32)        128       \n",
      "_________________________________________________________________\n",
      "max_pooling2d_24 (MaxPooling (None, 15, 15, 32)        0         \n",
      "_________________________________________________________________\n",
      "flatten_8 (Flatten)          (None, 7200)              0         \n",
      "_________________________________________________________________\n",
      "dense_15 (Dense)             (None, 128)               921728    \n",
      "_________________________________________________________________\n",
      "dropout_8 (Dropout)          (None, 128)               0         \n",
      "_________________________________________________________________\n",
      "dense_16 (Dense)             (None, 10)                1290      \n",
      "=================================================================\n",
      "Total params: 1,017,450\n",
      "Trainable params: 1,017,002\n",
      "Non-trainable params: 448\n",
      "_________________________________________________________________\n"
     ]
    }
   ],
   "source": [
    "CNN.summary()"
   ]
  },
  {
   "cell_type": "markdown",
   "metadata": {
    "colab_type": "text",
    "id": "8cHENtA7ODte"
   },
   "source": [
    "### Train"
   ]
  },
  {
   "cell_type": "code",
   "execution_count": 87,
   "metadata": {
    "colab": {
     "base_uri": "https://localhost:8080/",
     "height": 1020
    },
    "colab_type": "code",
    "executionInfo": {
     "elapsed": 341635,
     "status": "ok",
     "timestamp": 1558482885859,
     "user": {
      "displayName": "Arshia Zafari",
      "photoUrl": "",
      "userId": "03887972927192886582"
     },
     "user_tz": 420
    },
    "id": "8vTrcN_d_u8z",
    "outputId": "11a2c041-baac-4ba8-d7ee-b9511c653b83"
   },
   "outputs": [
    {
     "name": "stdout",
     "output_type": "stream",
     "text": [
      "Train on 16000 samples, validate on 2000 samples\n",
      "Epoch 1/10\n",
      "16000/16000 [==============================] - 33s 2ms/step - loss: 0.5396 - acc: 0.8746 - val_loss: 0.0745 - val_acc: 0.9810\n",
      "Epoch 2/10\n",
      "16000/16000 [==============================] - 32s 2ms/step - loss: 0.0434 - acc: 0.9879 - val_loss: 0.0593 - val_acc: 0.9925\n",
      "Epoch 3/10\n",
      "16000/16000 [==============================] - 32s 2ms/step - loss: 0.0283 - acc: 0.9933 - val_loss: 0.0038 - val_acc: 0.9990\n",
      "Epoch 4/10\n",
      "16000/16000 [==============================] - 32s 2ms/step - loss: 0.0196 - acc: 0.9954 - val_loss: 0.0086 - val_acc: 0.9985\n",
      "Epoch 5/10\n",
      "16000/16000 [==============================] - 32s 2ms/step - loss: 0.0149 - acc: 0.9963 - val_loss: 0.0047 - val_acc: 0.9995\n",
      "Epoch 6/10\n",
      "16000/16000 [==============================] - 32s 2ms/step - loss: 0.0110 - acc: 0.9971 - val_loss: 0.0504 - val_acc: 0.9915\n",
      "Epoch 7/10\n",
      "16000/16000 [==============================] - 32s 2ms/step - loss: 0.0117 - acc: 0.9977 - val_loss: 0.0105 - val_acc: 0.9985\n",
      "Epoch 8/10\n",
      "16000/16000 [==============================] - 32s 2ms/step - loss: 0.0117 - acc: 0.9979 - val_loss: 0.0223 - val_acc: 0.9960\n",
      "Epoch 9/10\n",
      "16000/16000 [==============================] - 32s 2ms/step - loss: 0.0096 - acc: 0.9982 - val_loss: 1.0386 - val_acc: 0.8920\n",
      "Epoch 10/10\n",
      "16000/16000 [==============================] - 32s 2ms/step - loss: 0.0032 - acc: 0.9994 - val_loss: 1.2051 - val_acc: 0.9060\n"
     ]
    }
   ],
   "source": [
    "CNN_train = CNN.fit(train_data, train_labels_onehot, batch_size=batch_size,epochs=epochs,\\\n",
    "                                    verbose=1,validation_data=(val_data, val_labels_onehot))"
   ]
  },
  {
   "cell_type": "code",
   "execution_count": null,
   "metadata": {
    "colab": {},
    "colab_type": "code",
    "id": "1KWEqp3WODto"
   },
   "outputs": [],
   "source": [
    "# CNN.save('my_CNN.h5')"
   ]
  },
  {
   "cell_type": "markdown",
   "metadata": {
    "colab_type": "text",
    "id": "hqy8pHo6ODts"
   },
   "source": [
    "### Results"
   ]
  },
  {
   "cell_type": "code",
   "execution_count": 88,
   "metadata": {
    "colab": {
     "base_uri": "https://localhost:8080/",
     "height": 281
    },
    "colab_type": "code",
    "executionInfo": {
     "elapsed": 583,
     "status": "ok",
     "timestamp": 1558483144682,
     "user": {
      "displayName": "Arshia Zafari",
      "photoUrl": "",
      "userId": "03887972927192886582"
     },
     "user_tz": 420
    },
    "id": "qc0F1oKZODtt",
    "outputId": "248eb6d6-4b93-4fed-b86e-ebee352fd1a5"
   },
   "outputs": [
    {
     "data": {
      "image/png": "[encoded data removed]",
      "text/plain": [
       "<Figure size 432x288 with 1 Axes>"
      ]
     },
     "metadata": {
      "needs_background": "light"
     },
     "output_type": "display_data"
    }
   ],
   "source": [
    "loss = CNN_train.history['loss']\n",
    "val_loss = CNN_train.history['val_loss']\n",
    "epochs = range(10)\n",
    "plt.figure()\n",
    "plt.plot(epochs, loss, 'bo', label='Training loss')\n",
    "plt.plot(epochs, val_loss, 'b', label='Validation loss')\n",
    "plt.title('Training and validation loss')\n",
    "plt.legend()\n",
    "plt.show()"
   ]
  },
  {
   "cell_type": "markdown",
   "metadata": {
    "colab_type": "text",
    "id": "p_HzPkGBODvI"
   },
   "source": [
    "### Predict and Evaluate on Test set"
   ]
  },
  {
   "cell_type": "code",
   "execution_count": 89,
   "metadata": {
    "colab": {
     "base_uri": "https://localhost:8080/",
     "height": 68
    },
    "colab_type": "code",
    "executionInfo": {
     "elapsed": 832,
     "status": "ok",
     "timestamp": 1558483398578,
     "user": {
      "displayName": "Arshia Zafari",
      "photoUrl": "",
      "userId": "03887972927192886582"
     },
     "user_tz": 420
    },
    "id": "MeIv-Z1kvosZ",
    "outputId": "68a446f2-53de-42f5-80f1-f54a32639b4e"
   },
   "outputs": [
    {
     "name": "stdout",
     "output_type": "stream",
     "text": [
      "(2000, 10)\n",
      "2000\n"
     ]
    }
   ],
   "source": [
    "print(test_labels_onehot.shape)\n",
    "print(len(test_data))"
   ]
  },
  {
   "cell_type": "code",
   "execution_count": 90,
   "metadata": {
    "colab": {
     "base_uri": "https://localhost:8080/",
     "height": 347
    },
    "colab_type": "code",
    "executionInfo": {
     "elapsed": 427,
     "status": "error",
     "timestamp": 1558483152445,
     "user": {
      "displayName": "Arshia Zafari",
      "photoUrl": "",
      "userId": "03887972927192886582"
     },
     "user_tz": 420
    },
    "id": "ULaH6WHEWE0d",
    "outputId": "9da9a047-cf28-4879-dae3-a91a0f0fad79"
   },
   "outputs": [],
   "source": [
    "loss, acc = CNN.evaluate(test_data, test_labels_onehot, batch_size=batch_size, verbose=0)"
   ]
  },
  {
   "cell_type": "code",
   "execution_count": 91,
   "metadata": {},
   "outputs": [
    {
     "name": "stdout",
     "output_type": "stream",
     "text": [
      "Test loss: 1.0925219774246215\n",
      "Test accuracy: 0.912\n"
     ]
    }
   ],
   "source": [
    "print('Test loss:', loss)\n",
    "print('Test accuracy:', acc)"
   ]
  },
  {
   "cell_type": "code",
   "execution_count": 92,
   "metadata": {
    "colab": {},
    "colab_type": "code",
    "id": "tWrzICnNODvU"
   },
   "outputs": [],
   "source": [
    "predicted_classes = CNN.predict(test_data)"
   ]
  },
  {
   "cell_type": "code",
   "execution_count": 93,
   "metadata": {},
   "outputs": [
    {
     "name": "stdout",
     "output_type": "stream",
     "text": [
      "(2000, 10)\n"
     ]
    }
   ],
   "source": [
    "print(predicted_classes.shape)\n",
    "predicted = predicted_classes.argmax(axis=1)"
   ]
  },
  {
   "cell_type": "code",
   "execution_count": 94,
   "metadata": {},
   "outputs": [
    {
     "name": "stdout",
     "output_type": "stream",
     "text": [
      "predicted: [7 7 5 ... 3 0 0]\n"
     ]
    },
    {
     "data": {
      "text/plain": [
       "(2000,)"
      ]
     },
     "execution_count": 94,
     "metadata": {},
     "output_type": "execute_result"
    }
   ],
   "source": [
    "print(\"predicted:\", predicted)\n",
    "predicted.shape\n",
    "#print(\"ground truth:\",(test_labels).astype(int).T[0])"
   ]
  },
  {
   "cell_type": "code",
   "execution_count": 95,
   "metadata": {},
   "outputs": [
    {
     "name": "stdout",
     "output_type": "stream",
     "text": [
      "1824\n"
     ]
    }
   ],
   "source": [
    "correct = np.where(predicted==test_labels)[0]\n",
    "print(len(correct))"
   ]
  },
  {
   "cell_type": "code",
   "execution_count": 96,
   "metadata": {
    "colab": {},
    "colab_type": "code",
    "id": "VjAms5NeODvd"
   },
   "outputs": [
    {
     "name": "stdout",
     "output_type": "stream",
     "text": [
      "Found 1824 correct labels\n"
     ]
    },
    {
     "data": {
      "image/png": "[encoded data removed]",
      "text/plain": [
       "<Figure size 432x288 with 9 Axes>"
      ]
     },
     "metadata": {
      "needs_background": "light"
     },
     "output_type": "display_data"
    }
   ],
   "source": [
    "predicted_classes = np.argmax(np.round(predicted_classes),axis=1)\n",
    "predicted_classes.shape, test_labels_onehot.shape\n",
    "\n",
    "print('Found %d correct labels' %len(correct))\n",
    "for i, correct in enumerate(correct[:9]):\n",
    "    plt.subplot(3,3,i+1)\n",
    "    plt.imshow(test_data[correct].reshape(120,120), cmap='gray', interpolation='none')\n",
    "    plt.title(\"Predicted {}, Class {}\".format(predicted_classes[correct], test_labels[correct]))\n",
    "    plt.tight_layout()"
   ]
  },
  {
   "cell_type": "code",
   "execution_count": 97,
   "metadata": {
    "colab": {},
    "colab_type": "code",
    "id": "hrssPPmqODvg"
   },
   "outputs": [
    {
     "name": "stdout",
     "output_type": "stream",
     "text": [
      "Found 176 incorrect labels\n"
     ]
    },
    {
     "data": {
      "image/png": "[encoded data removed]",
      "text/plain": [
       "<Figure size 432x288 with 9 Axes>"
      ]
     },
     "metadata": {
      "needs_background": "light"
     },
     "output_type": "display_data"
    }
   ],
   "source": [
    "incorrect = np.where(predicted_classes!=test_labels)[0]\n",
    "print('Found %d incorrect labels' % len(incorrect))\n",
    "for i, incorrect in enumerate(incorrect[:9]):\n",
    "    plt.subplot(3,3,i+1)\n",
    "    plt.imshow(test_data[incorrect].reshape(120,120), cmap='gray', interpolation='none')\n",
    "    plt.title(\"Predicted {}, Class {}\".format(predicted_classes[incorrect], test_labels[incorrect]))\n",
    "    plt.tight_layout()"
   ]
  },
  {
   "cell_type": "code",
   "execution_count": 98,
   "metadata": {},
   "outputs": [],
   "source": [
    "import sklearn.metrics as metrics\n",
    "# label_true = label_test\n",
    "# label_pred = prediction.argmax(axis=1) + 1 # increment because our classes start at 1 - 5\n",
    "confusion_matrix = metrics.confusion_matrix(y_true=test_labels, y_pred=predicted_classes)  # shape=(12, 12)"
   ]
  },
  {
   "cell_type": "code",
   "execution_count": 99,
   "metadata": {},
   "outputs": [
    {
     "data": {
      "text/plain": [
       "Text(0.5,1,'Normalized Confusion Matrix')"
      ]
     },
     "execution_count": 99,
     "metadata": {},
     "output_type": "execute_result"
    },
    {
     "data": {
      "image/png": "[encoded data removed]",
      "text/plain": [
       "<Figure size 720x720 with 2 Axes>"
      ]
     },
     "metadata": {
      "needs_background": "light"
     },
     "output_type": "display_data"
    }
   ],
   "source": [
    "# classes = { 'palm'       : 0,\n",
    "#             'l'          : 1,\n",
    "#             'fist'       : 2,\n",
    "#             'fist_moved' : 3,\n",
    "#             'thumb'      : 4,\n",
    "#             'index'      : 5,\n",
    "#             'ok'         : 6,\n",
    "#             'palm_moved' : 7,\n",
    "#             'c'          : 8,\n",
    "#             'down'       : 9\n",
    "#               }\n",
    "classes = {0: 'palm',\n",
    "           1: 'L',  \n",
    "           2: 'fist',     \n",
    "           3: 'fist_moved', \n",
    "           4: 'thumb',      \n",
    "           5: 'index',     \n",
    "           6: 'ok',        \n",
    "           7: 'palm_moved', \n",
    "           8: 'C',         \n",
    "           9: 'down'  \n",
    "              }\n",
    "fig = plt.figure(figsize=(10, 10))\n",
    "plt.imshow(confusion_matrix, cmap='gray')\n",
    "plt.xticks(np.arange(10), list(classes.values()))\n",
    "plt.xlabel(\"Predicted Labels\", fontsize=20)\n",
    "plt.yticks(np.arange(10), list(classes.values()))\n",
    "plt.ylabel(\"True Labels\", fontsize=20)\n",
    "plt.colorbar()\n",
    "plt.title(\"Normalized Confusion Matrix\", fontsize=30)"
   ]
  },
  {
   "cell_type": "markdown",
   "metadata": {
    "colab_type": "text",
    "id": "OT6nhN-TODvl"
   },
   "source": [
    "### Classification Report"
   ]
  },
  {
   "cell_type": "code",
   "execution_count": 100,
   "metadata": {
    "colab": {},
    "colab_type": "code",
    "id": "j4PRaYj8ODvm"
   },
   "outputs": [
    {
     "name": "stdout",
     "output_type": "stream",
     "text": [
      "              precision    recall  f1-score   support\n",
      "\n",
      "     Class 0       0.98      0.82      0.89       191\n",
      "     Class 1       0.95      1.00      0.98       202\n",
      "     Class 2       0.97      0.97      0.97       207\n",
      "     Class 3       1.00      0.85      0.92       213\n",
      "     Class 4       1.00      0.76      0.86       202\n",
      "     Class 5       1.00      0.97      0.99       200\n",
      "     Class 6       0.88      0.80      0.84       207\n",
      "     Class 7       0.66      1.00      0.79       203\n",
      "     Class 8       1.00      0.95      0.97       195\n",
      "     Class 9       0.86      1.00      0.93       180\n",
      "\n",
      "   micro avg       0.91      0.91      0.91      2000\n",
      "   macro avg       0.93      0.91      0.91      2000\n",
      "weighted avg       0.93      0.91      0.91      2000\n",
      "\n"
     ]
    }
   ],
   "source": [
    "from sklearn.metrics import classification_report\n",
    "target_names = [\"Class {}\".format(i) for i in range(num_classes)]\n",
    "print(classification_report(test_labels, predicted_classes, target_names=target_names))"
   ]
  },
  {
   "cell_type": "code",
   "execution_count": null,
   "metadata": {},
   "outputs": [],
   "source": []
  }
 ],
 "metadata": {
  "accelerator": "GPU",
  "colab": {
   "collapsed_sections": [],
   "name": "Gesture_Recognition.ipynb",
   "provenance": [],
   "version": "0.3.2"
  },
  "kernelspec": {
   "display_name": "Python 3",
   "language": "python",
   "name": "python3"
  },
  "language_info": {
   "codemirror_mode": {
    "name": "ipython",
    "version": 3
   },
   "file_extension": ".py",
   "mimetype": "text/x-python",
   "name": "python",
   "nbconvert_exporter": "python",
   "pygments_lexer": "ipython3",
   "version": "3.6.8"
  }
 },
 "nbformat": 4,
 "nbformat_minor": 1
}
