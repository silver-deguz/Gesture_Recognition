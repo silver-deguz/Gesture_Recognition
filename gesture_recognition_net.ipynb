{
 "cells": [
  {
   "cell_type": "code",
   "execution_count": 2,
   "metadata": {},
   "outputs": [],
   "source": [
    "import numpy as np\n",
    "import tensorflow as tf\n",
    "import keras\n",
    "\n",
    "from keras import layers\n",
    "from keras import models"
   ]
  },
  {
   "cell_type": "code",
   "execution_count": null,
   "metadata": {},
   "outputs": [],
   "source": [
    "model = models.Sequential()\n",
    "model.add(layers.Conv2D(filters=32, kernel_size=(3, 3), padding='same', activation=None, input_shape=))\n",
    "model.add(layers.LeakyReLU(alpha=0.3))\n",
    "model.add(layers.MaxPooling2D((2, 2)))\n",
    "\n",
    "model.add(layers.Conv2D(filters=64, (3, 3), padding='same', activation=None))\n",
    "model.add(layers.LeakyReLU(alpha=0.3))\n",
    "model.add(layers.MaxPooling2D((2, 2)))\n",
    "\n",
    "model.add(layers.Conv2D(filters=64, (3, 3), padding='same', activation=None))\n",
    "model.add(layers.LeakyReLU(alpha=0.3))\n",
    "\n",
    "model.add(layers.Conv2D(filters=128, (3, 3), padding='same', activation=None))\n",
    "model.add(layers.LeakyReLU(alpha=0.3))\n",
    "\n",
    "\n",
    "model.add(layers.Dense(1024, activation='relu'))\n",
    "dense = tf.nn.dropout(dense, keep_prob=0.5)\n",
    "model.add(layers.Dense(10, activation='softmax'))\n",
    "\n",
    "# keras.layers.Conv2D(filters, kernel_size, strides=(1, 1),\n",
    "#   padding='valid', data_format=None, dilation_rate=(1, 1),\n",
    "#   activation=None, use_bias=True, kernel_initializer='glorot_uniform',\n",
    "#   bias_initializer='zeros', kernel_regularizer=None,\n",
    "#   bias_regularizer=None, activity_regularizer=None,\n",
    "#   kernel_constraint=None, bias_constraint=None)\n",
    "\n",
    "class GestureRecognition():\n",
    "    "
   ]
  }
 ],
 "metadata": {
  "kernelspec": {
   "display_name": "Python 3",
   "language": "python",
   "name": "python3"
  },
  "language_info": {
   "codemirror_mode": {
    "name": "ipython",
    "version": 3
   },
   "file_extension": ".py",
   "mimetype": "text/x-python",
   "name": "python",
   "nbconvert_exporter": "python",
   "pygments_lexer": "ipython3",
   "version": "3.7.3"
  },
  "toc": {
   "base_numbering": 1,
   "nav_menu": {},
   "number_sections": false,
   "sideBar": false,
   "skip_h1_title": true,
   "title_cell": "Table of Contents",
   "title_sidebar": "Contents",
   "toc_cell": false,
   "toc_position": {},
   "toc_section_display": true,
   "toc_window_display": false
  }
 },
 "nbformat": 4,
 "nbformat_minor": 2
}
